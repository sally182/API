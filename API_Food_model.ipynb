{
 "cells": [
  {
   "cell_type": "code",
   "execution_count": null,
   "id": "1b9c096a",
   "metadata": {},
   "outputs": [
    {
     "name": "stdout",
     "output_type": "stream",
     "text": [
      " * Serving Flask app \"__main__\" (lazy loading)\n",
      " * Environment: production\n",
      "\u001b[31m   WARNING: This is a development server. Do not use it in a production deployment.\u001b[0m\n",
      "\u001b[2m   Use a production WSGI server instead.\u001b[0m\n",
      " * Debug mode: off\n"
     ]
    },
    {
     "name": "stderr",
     "output_type": "stream",
     "text": [
      " * Running on http://127.0.0.1:5000/ (Press CTRL+C to quit)\n",
      "127.0.0.1 - - [15/Sep/2023 01:14:53] \"GET / HTTP/1.1\" 200 -\n",
      "127.0.0.1 - - [15/Sep/2023 01:14:56] \"GET /favicon.ico HTTP/1.1\" 404 -\n",
      "127.0.0.1 - - [15/Sep/2023 01:15:08] \"POST /predict_api HTTP/1.1\" 200 -\n",
      "127.0.0.1 - - [15/Sep/2023 01:15:47] \"GET /test HTTP/1.1\" 200 -\n",
      "127.0.0.1 - - [15/Sep/2023 01:16:13] \"GET /test HTTP/1.1\" 400 -\n",
      "127.0.0.1 - - [15/Sep/2023 01:26:28] \"GET /test HTTP/1.1\" 400 -\n",
      "127.0.0.1 - - [15/Sep/2023 01:26:41] \"GET /test HTTP/1.1\" 400 -\n"
     ]
    }
   ],
   "source": [
    "import numpy as np\n",
    "import pickle\n",
    "from flask import Flask, request, jsonify, render_template\n",
    "\n",
    "model=pickle.load(open('Food_model.pkl','rb'))\n",
    "\n",
    "app = Flask(__name__)\n",
    "\n",
    "@app.route('/')\n",
    "def home():\n",
    "    \n",
    "    return \"Now Running Successfully....\"\n",
    "\n",
    "@app.route('/predict', methods=['POST'])\n",
    "def predict():\n",
    "    features = [float(x_train) for x_train in request.form.values()]\n",
    "    features = np.array(features).reshape(1, -1)\n",
    "    prediction = model.predict(features)\n",
    "    output = round(prediction[0], 2)\n",
    "    \n",
    "    return jsonify(output)\n",
    "\n",
    "@app.route('/predict_api', methods=['POST'])\n",
    "def predict_api():\n",
    "    data = request.get_json(force=True)\n",
    "    features = np.array(list(data.values())).reshape(1, -1)\n",
    "    prediction = model.predict(features)\n",
    "    output = prediction[0]\n",
    "    return jsonify(output)\n",
    "\n",
    "@app.route('/test',methods=['GET'])\n",
    "def test():\n",
    "    data = request.get_json(force=True)\n",
    "    features = np.array(list(data.values())).reshape(1, -1)\n",
    "    prediction = model.predict(features)\n",
    "    output = prediction[0]\n",
    "    return jsonify(output)\n",
    "\n",
    "if __name__==\"__main__\":\n",
    "    app.run()"
   ]
  }
 ],
 "metadata": {
  "kernelspec": {
   "display_name": "Python 3 (ipykernel)",
   "language": "python",
   "name": "python3"
  },
  "language_info": {
   "codemirror_mode": {
    "name": "ipython",
    "version": 3
   },
   "file_extension": ".py",
   "mimetype": "text/x-python",
   "name": "python",
   "nbconvert_exporter": "python",
   "pygments_lexer": "ipython3",
   "version": "3.9.12"
  }
 },
 "nbformat": 4,
 "nbformat_minor": 5
}
